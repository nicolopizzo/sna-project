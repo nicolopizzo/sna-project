{
 "cells": [
  {
   "cell_type": "code",
   "execution_count": 1,
   "metadata": {},
   "outputs": [],
   "source": [
    "import os\n",
    "import csv\n",
    "import pandas as pd\n",
    "\n",
    "from dotenv import load_dotenv\n",
    "from github import Github"
   ]
  },
  {
   "cell_type": "code",
   "execution_count": 2,
   "metadata": {},
   "outputs": [],
   "source": [
    "# Load environment variables\n",
    "auth_token = os.getenv(\"GITHUB_TOKEN\")\n",
    "username = os.getenv(\"GITHUB_USERNAME\")\n",
    "\n",
    "# Using an access token\n",
    "g = Github(auth_token)\n",
    " \n",
    "# Get the repositories\n",
    "repos = g.get_repos()\n",
    "users = []"
   ]
  },
  {
   "cell_type": "code",
   "execution_count": 3,
   "metadata": {},
   "outputs": [],
   "source": [
    "num_repos = 1000\n",
    "repos = list(repos[:num_repos])\n",
    "repos_dataset = []\n",
    "# repos = [\"r_\"+str(i)]"
   ]
  },
  {
   "cell_type": "code",
   "execution_count": 4,
   "metadata": {},
   "outputs": [
    {
     "name": "stdout",
     "output_type": "stream",
     "text": [
      "Error for repo:  ivey/merb-for-rails 404 {\"message\": \"Not Found\", \"documentation_url\": \"https://docs.github.com/rest/reference/repos#list-repository-languages\"}\n",
      "Error for repo:  reinh/dm 403 {\"message\": \"Repository access blocked\", \"block\": {\"reason\": \"unavailable\", \"created_at\": \"2014-01-31T22:32:14Z\", \"html_url\": \"https://github.com/tos\"}}\n",
      "Error for repo:  chriseppstein/ruby-freebase 403 {\"message\": \"Repository access blocked\", \"block\": {\"reason\": \"unavailable\", \"created_at\": \"2014-01-31T22:32:14Z\", \"html_url\": \"https://github.com/tos\"}}\n",
      "Error for repo:  efrendiaz/helloworld 403 {\"message\": \"Repository access blocked\", \"block\": {\"reason\": \"unavailable\", \"created_at\": \"2014-01-31T22:32:14Z\", \"html_url\": \"https://github.com/tos\"}}\n",
      "Error for repo:  soylentfoo/atlrug-demo 403 {\"message\": \"Repository access blocked\", \"block\": {\"reason\": \"unavailable\", \"created_at\": \"2014-01-31T22:32:14Z\", \"html_url\": \"https://github.com/tos\"}}\n",
      "Error for repo:  mvanholstyn/mhs_testing 500 null\n"
     ]
    }
   ],
   "source": [
    "users = []\n",
    "for i, repo in enumerate(repos):\n",
    "    # s = repo.get_subscribers()\n",
    "    try:\n",
    "        r_id = \"r_\" + str(i)\n",
    "        languages = list(repo.get_languages().keys())\n",
    "        full_name = repo.full_name\n",
    "        repos_dataset.append({'id': r_id, 'name': full_name, 'languages': languages})\n",
    "        \n",
    "        subs = repo.get_subscribers()\n",
    "        subs = [{'repos': r_id, 'user': user.login} for user in subs]        \n",
    "        users.extend(list(subs))\n",
    "    except Exception as e:\n",
    "        print('Error for repo: ', repo.full_name, e)\n",
    "        continue"
   ]
  },
  {
   "cell_type": "code",
   "execution_count": 5,
   "metadata": {},
   "outputs": [],
   "source": [
    "# reduce the users by username\n",
    "users_df = pd.DataFrame(users)\n",
    "\n",
    "users_df = users_df.groupby('user')['repos'].apply(list).reset_index(name='repos')\n",
    "users_id = [\"u_\"+str(i) for i in range(len(users_df))]\n",
    "users_df['id'] = users_id\n",
    "users_df = users_df[['id', 'user', 'repos']]\n",
    "\n",
    "users_df.to_csv('dataset/users.csv', index=False)"
   ]
  },
  {
   "cell_type": "code",
   "execution_count": 6,
   "metadata": {},
   "outputs": [],
   "source": [
    "pd.DataFrame(repos_dataset).to_csv('dataset/repos.csv', index=False)"
   ]
  }
 ],
 "metadata": {
  "kernelspec": {
   "display_name": ".venv",
   "language": "python",
   "name": "python3"
  },
  "language_info": {
   "codemirror_mode": {
    "name": "ipython",
    "version": 3
   },
   "file_extension": ".py",
   "mimetype": "text/x-python",
   "name": "python",
   "nbconvert_exporter": "python",
   "pygments_lexer": "ipython3",
   "version": "3.10.9"
  },
  "orig_nbformat": 4,
  "vscode": {
   "interpreter": {
    "hash": "0e39a8295aaa61cb5bbf590240298ad907723e932fb512b7f7d594e788104818"
   }
  }
 },
 "nbformat": 4,
 "nbformat_minor": 2
}
