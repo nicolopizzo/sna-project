{
 "cells": [
  {
   "cell_type": "code",
   "execution_count": 52,
   "metadata": {},
   "outputs": [
    {
     "name": "stdout",
     "output_type": "stream",
     "text": [
      "Number of nodes: 4\n",
      "Number of edges: 3\n"
     ]
    },
    {
     "data": {
      "image/png": "[encoded data removed]",
      "text/plain": [
       "<Figure size 640x480 with 1 Axes>"
      ]
     },
     "metadata": {},
     "output_type": "display_data"
    }
   ],
   "source": [
    "import os\n",
    "from github import Github\n",
    "from dotenv import load_dotenv\n",
    "import networkx as nx\n",
    "import csv\n",
    "\n",
    "# Create an empty graph\n",
    "graph = nx.Graph()\n",
    "\n",
    "# Open the CSV file and read the data for users\n",
    "with open('dataset_users.csv', 'r') as f:\n",
    "    reader = csv.reader(f, delimiter=';')\n",
    "    for i, row in enumerate(reader):\n",
    "        if i == 0: # Skip the header columns\n",
    "            continue\n",
    "\n",
    "        # transform the string of repositories into an array of strings\n",
    "        row[2] = [x for x in row[2].replace(' ', '').replace('[', '').replace(']', '').replace('\\'', '').split(',')]\n",
    "\n",
    "        \"\"\" print(\"row\", i, \": \", row)\n",
    "        print(\"row[0] (user ID): \", row[0])\n",
    "        print(\"row[1] (username): \", row[1])\n",
    "        print(\"row[2] (repositories ID): \", row[2]) \"\"\"\n",
    "\n",
    "        # Add the node with data from the first column\n",
    "        graph.add_node(row[0], name=row[1], repos=row[2], color=\"#7FB2FD\")\n",
    "\n",
    "# Open the CSV file and read the data for repositories\n",
    "with open('dataset_repos.csv', 'r') as f:\n",
    "    reader = csv.reader(f, delimiter=';')\n",
    "    for i, row in enumerate(reader):\n",
    "        if i == 0: # Skip the header columns\n",
    "            continue\n",
    "\n",
    "        # transform the string of languages into an array of strings\n",
    "        row[2] = [x for x in row[2].replace(' ', '').replace('[', '').replace(']', '').replace('\\'', '').split(',')]\n",
    "\n",
    "        \"\"\" print(\"row\", i, \": \", row)\n",
    "        print(\"row[0] (repository ID): \", row[0])\n",
    "        print(\"row[1] (repository name): \", row[1])\n",
    "        print(\"row[2] (languages): \", row[2]) \"\"\"\n",
    "\n",
    "        # Add the node with data from the first column\n",
    "        graph.add_node(row[0], name=row[1], languages=row[2], color=\"#FF8CCD\")\n",
    "\n",
    "# Add an edge between users and repositories\n",
    "for node in graph.nodes:\n",
    "    # if node starts with \"U\"\n",
    "    if node[0] == \"u\":\n",
    "        # for each repository in the user's list of repositories\n",
    "        for repo in graph.nodes[node]['repos']:\n",
    "            # add an edge between the user and the repository\n",
    "            graph.add_edge(node, repo)\n",
    "\n",
    "# Print the number of nodes and edges\n",
    "print(\"Number of nodes:\", graph.number_of_nodes())\n",
    "print(\"Number of edges:\", graph.number_of_edges())\n",
    "\n",
    "# Print the neighbors of a node\n",
    "# print(\"Neighbors of node 1:\", list(G.neighbors(1)))\n",
    "\n",
    "# Draw the graph using color property to distinguish users and repositories\n",
    "nx.draw(graph, with_labels=True, node_color=[graph.nodes[node]['color'] for node in graph.nodes], node_size=1000)"
   ]
  },
  {
   "cell_type": "code",
   "execution_count": null,
   "metadata": {},
   "outputs": [],
   "source": []
  }
 ],
 "metadata": {
  "kernelspec": {
   "display_name": "Python 3",
   "language": "python",
   "name": "python3"
  },
  "language_info": {
   "codemirror_mode": {
    "name": "ipython",
    "version": 3
   },
   "file_extension": ".py",
   "mimetype": "text/x-python",
   "name": "python",
   "nbconvert_exporter": "python",
   "pygments_lexer": "ipython3",
   "version": "3.10.8"
  },
  "orig_nbformat": 4,
  "vscode": {
   "interpreter": {
    "hash": "aee8b7b246df8f9039afb4144a1f6fd8d2ca17a180786b69acc140d282b71a49"
   }
  }
 },
 "nbformat": 4,
 "nbformat_minor": 2
}
